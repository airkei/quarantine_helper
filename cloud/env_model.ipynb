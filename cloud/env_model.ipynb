{
 "cells": [
  {
   "cell_type": "code",
   "execution_count": null,
   "id": "1180e7d1",
   "metadata": {},
   "outputs": [],
   "source": [
    "import boto3\n",
    "import pandas as pd\n",
    "import matplotlib.pyplot as plt\n",
    "import matplotlib.dates as mdates\n",
    "%matplotlib inline"
   ]
  },
  {
   "cell_type": "code",
   "execution_count": null,
   "id": "baff59e8",
   "metadata": {},
   "outputs": [],
   "source": [
    "dynamodb = boto3.resource('dynamodb', region_name='ap-northeast-1')\n",
    "table = dynamodb.Table('dynamodb-env-keisuke-nakata')\n",
    "ret = table.scan()\n",
    "df = pd.DataFrame(data=ret['Items'])\n",
    "df['date'] = pd.to_datetime(df['date'], format='%Y-%m-%d %H:%M:%S')"
   ]
  },
  {
   "cell_type": "code",
   "execution_count": null,
   "id": "979a472c",
   "metadata": {},
   "outputs": [],
   "source": [
    "df.head()"
   ]
  },
  {
   "cell_type": "code",
   "execution_count": null,
   "id": "8e2a575e",
   "metadata": {},
   "outputs": [],
   "source": [
    "def show_graph(df):\n",
    "    plt.figure(figsize=(24, 12))\n",
    "\n",
    "    plt.subplot(7,1,1)\n",
    "    plt.title('ambient', fontsize=14)\n",
    "    plt.gca().xaxis.set_major_formatter(mdates.DateFormatter(\"%H\")) \n",
    "    plt.ylim(-10, 600)\n",
    "    plt.plot(df['date'], df['ambient'])\n",
    "\n",
    "    plt.subplot(7,1,2)\n",
    "    plt.title('pir', fontsize=14)\n",
    "    plt.gca().xaxis.set_major_formatter(mdates.DateFormatter(\"%H\")) \n",
    "    plt.ylim(20, 40)\n",
    "    plt.plot(df['date'], df['pir'])    \n",
    "    \n",
    "    plt.subplot(7,1,3)\n",
    "    plt.title('temperature', fontsize=14)\n",
    "    plt.gca().xaxis.set_major_formatter(mdates.DateFormatter(\"%H\")) \n",
    "    plt.ylim(15, 30)\n",
    "    plt.plot(df['date'], df['temperature'])\n",
    "    \n",
    "    plt.subplot(7,1,4)\n",
    "    plt.title('humidity', fontsize=14)\n",
    "    plt.gca().xaxis.set_major_formatter(mdates.DateFormatter(\"%H\")) \n",
    "    plt.ylim(0, 100)\n",
    "    plt.plot(df['date'], df['humidity'])    \n",
    "    \n",
    "\n",
    "    plt.figure(figsize=(24, 16))    \n",
    "    \n",
    "    plt.subplot(7,1,5)\n",
    "    plt.title('co2', fontsize=14)\n",
    "    plt.gca().xaxis.set_major_formatter(mdates.DateFormatter(\"%H\")) \n",
    "    plt.ylim(200, 1600)\n",
    "    plt.plot(df['date'], df['co2_pas'], label='co2(pas)')\n",
    "    plt.plot(df['date'], df['co2_ndir'], label='co2(ndir)')\n",
    "    plt.axhline(1000, ls = \"-.\", color = \"magenta\")    \n",
    "    y = 1000\n",
    "    \n",
    "    plt.legend()\n",
    "    \n",
    "    plt.subplot(7,1,6)\n",
    "    plt.title('voc', fontsize=14)\n",
    "    plt.gca().xaxis.set_major_formatter(mdates.DateFormatter(\"%H\")) \n",
    "    plt.ylim(0, 500)\n",
    "    plt.plot(df['date'], df['voc'])\n",
    "    plt.axhline(400, ls = \"-.\", color = \"magenta\")\n",
    "    \n",
    "    plt.subplot(7,1,7)\n",
    "    plt.title('pm2.5', fontsize=14)\n",
    "    plt.gca().xaxis.set_major_formatter(mdates.DateFormatter(\"%H\")) \n",
    "    plt.ylim(0, 1)\n",
    "    plt.plot(df['date'], df['dust'])"
   ]
  },
  {
   "cell_type": "markdown",
   "id": "3b686846",
   "metadata": {},
   "source": [
    "# 隔離部屋(仕事部屋)"
   ]
  },
  {
   "cell_type": "code",
   "execution_count": null,
   "id": "40055f76",
   "metadata": {},
   "outputs": [],
   "source": [
    "df_work = df[df['room'] == 'work']\n",
    "df_work = df_work[(df_work['date'] >= '2021-11-05 00:00:00') & (df_work['date'] < '2021-11-06 00:00:00')]\n",
    "df_work.head()"
   ]
  },
  {
   "cell_type": "code",
   "execution_count": null,
   "id": "3ecc1ab4",
   "metadata": {},
   "outputs": [],
   "source": [
    "show_graph(df_work)"
   ]
  },
  {
   "cell_type": "markdown",
   "id": "1b35a8ba",
   "metadata": {},
   "source": [
    "# リビング"
   ]
  },
  {
   "cell_type": "code",
   "execution_count": null,
   "id": "abf1a3a6",
   "metadata": {},
   "outputs": [],
   "source": [
    "df_living = df[df['room'] == 'living']\n",
    "df_living = df_living[(df_living['date'] >= '2021-11-07 00:00:00') & (df_living['date'] < '2021-11-08 00:00:00')]\n",
    "df_living.head()"
   ]
  },
  {
   "cell_type": "code",
   "execution_count": null,
   "id": "b3bbe8e2",
   "metadata": {},
   "outputs": [],
   "source": [
    "show_graph(df_living)"
   ]
  },
  {
   "cell_type": "markdown",
   "id": "8aec5693",
   "metadata": {},
   "source": [
    "# トイレ"
   ]
  },
  {
   "cell_type": "code",
   "execution_count": null,
   "id": "ce27813c",
   "metadata": {},
   "outputs": [],
   "source": [
    "df_bath = df[df['room'] == 'bathroom']\n",
    "df_bath = df_bath[(df_bath['date'] >= '2021-11-12 11:20:00') & (df_bath['date'] < '2021-11-13 00:00:00')]\n",
    "df_bath.head()"
   ]
  },
  {
   "cell_type": "code",
   "execution_count": null,
   "id": "8238ae56",
   "metadata": {},
   "outputs": [],
   "source": [
    "show_graph(df_bath)"
   ]
  },
  {
   "cell_type": "code",
   "execution_count": null,
   "id": "b16aedd7",
   "metadata": {},
   "outputs": [],
   "source": []
  },
  {
   "cell_type": "code",
   "execution_count": null,
   "id": "f6c21573",
   "metadata": {},
   "outputs": [],
   "source": []
  }
 ],
 "metadata": {
  "kernelspec": {
   "display_name": "conda_tensorflow2_latest_p37",
   "language": "python",
   "name": "conda_tensorflow2_latest_p37"
  },
  "language_info": {
   "codemirror_mode": {
    "name": "ipython",
    "version": 3
   },
   "file_extension": ".py",
   "mimetype": "text/x-python",
   "name": "python",
   "nbconvert_exporter": "python",
   "pygments_lexer": "ipython3",
   "version": "3.7.10"
  }
 },
 "nbformat": 4,
 "nbformat_minor": 5
}
