{
 "cells": [
  {
   "cell_type": "code",
   "execution_count": 1,
   "id": "fc13d369",
   "metadata": {},
   "outputs": [
    {
     "name": "stdout",
     "output_type": "stream",
     "text": [
      "Looking in indexes: https://pypi.org/simple, https://pip.repos.neuron.amazonaws.com\n",
      "Requirement already satisfied: torchvision in /home/ec2-user/anaconda3/envs/tensorflow2_latest_p37/lib/python3.7/site-packages (0.11.1)\n",
      "Requirement already satisfied: pillow!=8.3.0,>=5.3.0 in /home/ec2-user/anaconda3/envs/tensorflow2_latest_p37/lib/python3.7/site-packages (from torchvision) (8.3.1)\n",
      "Requirement already satisfied: torch==1.10.0 in /home/ec2-user/anaconda3/envs/tensorflow2_latest_p37/lib/python3.7/site-packages (from torchvision) (1.10.0)\n",
      "Requirement already satisfied: numpy in /home/ec2-user/anaconda3/envs/tensorflow2_latest_p37/lib/python3.7/site-packages (from torchvision) (1.18.5)\n",
      "Requirement already satisfied: typing-extensions in /home/ec2-user/anaconda3/envs/tensorflow2_latest_p37/lib/python3.7/site-packages (from torch==1.10.0->torchvision) (3.7.4.3)\n",
      "\u001b[33mWARNING: You are using pip version 21.2.4; however, version 22.0.3 is available.\n",
      "You should consider upgrading via the '/home/ec2-user/anaconda3/envs/tensorflow2_latest_p37/bin/python -m pip install --upgrade pip' command.\u001b[0m\n",
      "Looking in indexes: https://pypi.org/simple, https://pip.repos.neuron.amazonaws.com\n",
      "Requirement already satisfied: tensorflow_hub in /home/ec2-user/anaconda3/envs/tensorflow2_latest_p37/lib/python3.7/site-packages (0.12.0)\n",
      "Requirement already satisfied: protobuf>=3.8.0 in /home/ec2-user/anaconda3/envs/tensorflow2_latest_p37/lib/python3.7/site-packages (from tensorflow_hub) (3.15.2)\n",
      "Requirement already satisfied: numpy>=1.12.0 in /home/ec2-user/anaconda3/envs/tensorflow2_latest_p37/lib/python3.7/site-packages (from tensorflow_hub) (1.18.5)\n",
      "Requirement already satisfied: six>=1.9 in /home/ec2-user/anaconda3/envs/tensorflow2_latest_p37/lib/python3.7/site-packages (from protobuf>=3.8.0->tensorflow_hub) (1.15.0)\n",
      "\u001b[33mWARNING: You are using pip version 21.2.4; however, version 22.0.3 is available.\n",
      "You should consider upgrading via the '/home/ec2-user/anaconda3/envs/tensorflow2_latest_p37/bin/python -m pip install --upgrade pip' command.\u001b[0m\n",
      "Looking in indexes: https://pypi.org/simple, https://pip.repos.neuron.amazonaws.com\n",
      "Requirement already satisfied: tensorflow_model_optimization in /home/ec2-user/anaconda3/envs/tensorflow2_latest_p37/lib/python3.7/site-packages (0.7.0)\n",
      "Requirement already satisfied: numpy~=1.14 in /home/ec2-user/anaconda3/envs/tensorflow2_latest_p37/lib/python3.7/site-packages (from tensorflow_model_optimization) (1.18.5)\n",
      "Requirement already satisfied: dm-tree~=0.1.1 in /home/ec2-user/anaconda3/envs/tensorflow2_latest_p37/lib/python3.7/site-packages (from tensorflow_model_optimization) (0.1.6)\n",
      "Requirement already satisfied: six~=1.10 in /home/ec2-user/anaconda3/envs/tensorflow2_latest_p37/lib/python3.7/site-packages (from tensorflow_model_optimization) (1.15.0)\n",
      "\u001b[33mWARNING: You are using pip version 21.2.4; however, version 22.0.3 is available.\n",
      "You should consider upgrading via the '/home/ec2-user/anaconda3/envs/tensorflow2_latest_p37/bin/python -m pip install --upgrade pip' command.\u001b[0m\n"
     ]
    }
   ],
   "source": [
    "!pip install torchvision\n",
    "!pip install tensorflow_hub\n",
    "!pip install tensorflow_model_optimization"
   ]
  },
  {
   "cell_type": "code",
   "execution_count": 2,
   "id": "36d83db6",
   "metadata": {},
   "outputs": [],
   "source": [
    "# Load the TensorBoard notebook extension\n",
    "%load_ext tensorboard"
   ]
  },
  {
   "cell_type": "code",
   "execution_count": 3,
   "id": "20966954",
   "metadata": {},
   "outputs": [],
   "source": [
    "from datetime import datetime as dt\n",
    "import itertools\n",
    "from pytz import timezone\n",
    "import pytz\n",
    "import os\n",
    "import tempfile\n",
    "\n",
    "import numpy as np\n",
    "import pandas as pd\n",
    "import matplotlib.pyplot as plt\n",
    "%matplotlib inline\n",
    "\n",
    "from sklearn.model_selection import train_test_split\n",
    "from sklearn.preprocessing import LabelEncoder, StandardScaler\n",
    "from sklearn.metrics import confusion_matrix, classification_report\n",
    "\n",
    "import tensorflow as tf\n",
    "from tensorflow.keras.models import Sequential\n",
    "from tensorflow.keras.layers import Dense, Flatten, Input, Conv1D, Conv2D, BatchNormalization, MaxPooling1D, MaxPooling2D, GlobalMaxPool1D, GlobalMaxPool2D, Activation, LeakyReLU, Dropout\n",
    "from tensorflow.keras import Model\n",
    "import tensorflow_hub as hub\n",
    "\n",
    "import seaborn as sns\n",
    "\n",
    "from boto3_utilities import *"
   ]
  },
  {
   "cell_type": "code",
   "execution_count": 4,
   "id": "47be75d1",
   "metadata": {},
   "outputs": [
    {
     "name": "stdout",
     "output_type": "stream",
     "text": [
      "2.4.3\n"
     ]
    }
   ],
   "source": [
    "print(tf.__version__)"
   ]
  },
  {
   "cell_type": "code",
   "execution_count": 5,
   "id": "a5af653c",
   "metadata": {},
   "outputs": [],
   "source": [
    "tdatetime = dt.now(tz=pytz.timezone('Asia/Tokyo'))\n",
    "tstr = tdatetime.strftime('%Y%m%d-%H%M%S')"
   ]
  },
  {
   "cell_type": "code",
   "execution_count": 6,
   "id": "cc01be62",
   "metadata": {},
   "outputs": [],
   "source": [
    "MODELS_DIR = 'models/'\n",
    "if not os.path.exists(MODELS_DIR):\n",
    "    os.mkdir(MODELS_DIR)\n",
    "MODEL_TF = MODELS_DIR + 'model'\n",
    "MODEL_TF_PRUNING = MODELS_DIR + 'model_pruning'\n",
    "MODEL_NO_QUANT_TFLITE = MODELS_DIR + 'model_no_quant.tflite'\n",
    "MODEL_TFLITE = MODELS_DIR + 'model.tflite'\n",
    "MODEL_TFLITE_MICRO = MODELS_DIR + 'model.cc'"
   ]
  },
  {
   "cell_type": "code",
   "execution_count": 7,
   "id": "bc64e1d6",
   "metadata": {},
   "outputs": [],
   "source": [
    "BUCKET_NAME = \"sensor-data-keisuke-nakata\""
   ]
  },
  {
   "cell_type": "code",
   "execution_count": 8,
   "id": "13bad388",
   "metadata": {},
   "outputs": [],
   "source": [
    "SAMPLE = 64\n",
    "DIM = 8\n",
    "OUTPUTS = 5\n",
    "\n",
    "EPOCHS = 40\n",
    "BATCH_SIZE = 17\n",
    "LEARNING_RATE = 0.0004857053242728049"
   ]
  },
  {
   "cell_type": "code",
   "execution_count": null,
   "id": "e7f43abd",
   "metadata": {},
   "outputs": [],
   "source": []
  },
  {
   "cell_type": "code",
   "execution_count": 9,
   "id": "8724d48c",
   "metadata": {},
   "outputs": [],
   "source": [
    "def nparr_load(key):\n",
    "    s3 = boto3.resource('s3')    \n",
    "    with tempfile.TemporaryFile() as temp:\n",
    "      res = s3.Object(bucket_name=BUCKET_NAME, key=key).download_fileobj(temp)\n",
    "      temp.seek(0)\n",
    "      aa = np.load(temp)    \n",
    "    \n",
    "    return aa"
   ]
  },
  {
   "cell_type": "code",
   "execution_count": 10,
   "id": "0221e45d",
   "metadata": {},
   "outputs": [],
   "source": [
    "x_train = nparr_load(\"sample=64/train_data.npy\")\n",
    "y_train = nparr_load(\"sample=64/train_labels.npy\")\n",
    "x_test = nparr_load(\"sample=64/eval_data.npy\")\n",
    "y_test = nparr_load(\"sample=64/eval_labels.npy\")"
   ]
  },
  {
   "cell_type": "code",
   "execution_count": 11,
   "id": "46382668",
   "metadata": {},
   "outputs": [],
   "source": [
    "# '''VGG16'''\n",
    "# input_shape=x_train.shape[1:]\n",
    "# model = Sequential()\n",
    "# model.add(Conv2D(filters=64, kernel_size=(3,3), strides=(1,1), padding='same', input_shape=(SAMPLE, DIM, 1)))\n",
    "# model.add(BatchNormalization(name='bn1'))\n",
    "# model.add(Activation('relu'))\n",
    "# model.add(Conv2D(filters=64, kernel_size=(3,3), strides=(1,1), padding='same', name='block1_conv2'))\n",
    "# model.add(BatchNormalization(name='bn2'))\n",
    "# model.add(Activation('relu'))\n",
    "# model.add(MaxPooling2D(pool_size=(2,2), strides=(2,2), padding='same', name='block1_pool'))\n",
    "# model.add(Conv2D(filters=128, kernel_size=(3,3), strides=(1,1), padding='same', name='block2_conv1'))\n",
    "# model.add(BatchNormalization(name='bn3'))\n",
    "# model.add(Activation('relu'))\n",
    "# model.add(Conv2D(filters=128, kernel_size=(3,3), strides=(1,1), padding='same', name='block2_conv2'))\n",
    "# model.add(BatchNormalization(name='bn4'))\n",
    "# model.add(Activation('relu'))\n",
    "# model.add(MaxPooling2D(pool_size=(2,2), strides=(2,2), padding='same', name='block2_pool'))\n",
    "# model.add(Conv2D(filters=256, kernel_size=(3,3), strides=(1,1), padding='same', name='block3_conv1'))\n",
    "# model.add(BatchNormalization(name='bn5'))\n",
    "# model.add(Activation('relu'))\n",
    "# model.add(Conv2D(filters=256, kernel_size=(3,3), strides=(1,1), padding='same', name='block3_conv2'))\n",
    "# model.add(BatchNormalization(name='bn6'))\n",
    "# model.add(Activation('relu'))\n",
    "# model.add(Conv2D(filters=256, kernel_size=(3,3), strides=(1,1), padding='same', name='block3_conv3'))\n",
    "# model.add(BatchNormalization(name='bn7'))\n",
    "# model.add(Activation('relu'))\n",
    "# model.add(MaxPooling2D(pool_size=(2,2), strides=(2,2), padding='same', name='block3_pool'))\n",
    "# model.add(Conv2D(filters=512, kernel_size=(3,3), strides=(1,1), padding='same', name='block4_conv1'))\n",
    "# model.add(BatchNormalization(name='bn8'))\n",
    "# model.add(Activation('relu'))\n",
    "# model.add(Conv2D(filters=512, kernel_size=(3,3), strides=(1,1), padding='same', name='block4_conv2'))\n",
    "# model.add(BatchNormalization(name='bn9'))\n",
    "# model.add(Activation('relu'))\n",
    "# model.add(Conv2D(filters=512, kernel_size=(3,3), strides=(1,1), padding='same', name='block4_conv3'))\n",
    "# model.add(BatchNormalization(name='bn10'))\n",
    "# model.add(Activation('relu'))\n",
    "# model.add(MaxPooling2D(pool_size=(2,2), strides=(2,2), padding='same', name='block4_pool'))\n",
    "# model.add(Conv2D(filters=512, kernel_size=(3,3), strides=(1,1), padding='same', name='block5_conv1'))\n",
    "# model.add(BatchNormalization(name='bn11'))\n",
    "# model.add(Activation('relu'))\n",
    "# model.add(Conv2D(filters=512, kernel_size=(3,3), strides=(1,1), padding='same', name='block5_conv2'))\n",
    "# model.add(BatchNormalization(name='bn12'))\n",
    "# model.add(Activation('relu'))\n",
    "# model.add(Conv2D(filters=512, kernel_size=(3,3), strides=(1,1), padding='same', name='block5_conv3'))\n",
    "# model.add(BatchNormalization(name='bn13'))\n",
    "# model.add(Activation('relu'))\n",
    "# model.add(MaxPooling2D(pool_size=(2,2), strides=(2,2), padding='same', name='block5_pool'))\n",
    "# model.add(Flatten(name='flatten'))\n",
    "# model.add(Dense(units=4096, activation='relu', name='fc1'))\n",
    "# model.add(Dense(units=4096, activation='relu', name='fc2'))\n",
    "# model.add(Dense(units=OUTPUTS, activation='softmax', name='predictions'))"
   ]
  },
  {
   "cell_type": "code",
   "execution_count": 12,
   "id": "d16c6bd8",
   "metadata": {},
   "outputs": [
    {
     "name": "stdout",
     "output_type": "stream",
     "text": [
      "Extension horovod.torch has not been built: /home/ec2-user/anaconda3/envs/tensorflow2_latest_p37/lib/python3.7/site-packages/horovod/torch/mpi_lib/_mpi_lib.cpython-37m-x86_64-linux-gnu.so not found\n",
      "If this is not expected, reinstall Horovod with HOROVOD_WITH_PYTORCH=1 to debug the build error.\n",
      "Warning! MPI libs are missing, but python applications are still avaiable.\n",
      "[2022-02-23 09:48:49.294 ip-172-16-57-184.ap-northeast-1.compute.internal:8842 INFO utils.py:27] RULE_JOB_STOP_SIGNAL_FILENAME: None\n",
      "[2022-02-23 09:48:49.326 ip-172-16-57-184.ap-northeast-1.compute.internal:8842 INFO profiler_config_parser.py:111] Unable to find config at /opt/ml/input/config/profilerconfig.json. Profiler is disabled.\n"
     ]
    }
   ],
   "source": [
    "    model = tf.keras.models.Sequential()\n",
    "\n",
    "    model.add(tf.keras.layers.Conv2D(filters=16, kernel_size=(3, 3), strides=(1, 1), padding=\"same\", name='block1_conv1', input_shape=(SAMPLE, DIM, 1)))\n",
    "    model.add(tf.keras.layers.BatchNormalization(name='block1_bn'))\n",
    "    model.add(tf.keras.layers.Activation('relu', name='block1_act'))\n",
    "    model.add(tf.keras.layers.MaxPooling2D(padding='same', pool_size=(2, 2), name='block1_pool'))\n",
    "\n",
    "    model.add(tf.keras.layers.Conv2D(filters=32, kernel_size=(3, 1), strides=(1, 1), padding=\"same\", name='block2_conv1'))\n",
    "    model.add(tf.keras.layers.BatchNormalization(name='block2_bn'))\n",
    "    model.add(tf.keras.layers.Activation('relu', name='block2_act'))\n",
    "\n",
    "    model.add(tf.keras.layers.Conv2D(filters=32, kernel_size=(3, 1), strides=(1, 1), padding=\"same\", name='block3_conv1'))\n",
    "    model.add(tf.keras.layers.BatchNormalization(name='block3_bn'))\n",
    "    model.add(tf.keras.layers.Activation('relu', name='block3_act'))\n",
    "    model.add(tf.keras.layers.MaxPooling2D(padding='same', pool_size=(2, 1), name='block3_pool'))\n",
    "\n",
    "    model.add(tf.keras.layers.Flatten(name='flatten'))\n",
    "    model.add(tf.keras.layers.Dense(units=128, activation='relu', name='fc1'))\n",
    "    model.add(tf.keras.layers.Dropout(0.5, name='dropout1'))\n",
    "    model.add(tf.keras.layers.Dense(units=128, activation='relu', name='fc2'))\n",
    "    model.add(tf.keras.layers.Dropout(0.5, name='dropout2'))\n",
    "    \n",
    "    model.add(tf.keras.layers.Dense(units=OUTPUTS, activation='softmax', name='predictions'))"
   ]
  },
  {
   "cell_type": "code",
   "execution_count": 13,
   "id": "24d9a0ec",
   "metadata": {},
   "outputs": [],
   "source": [
    "opt = tf.keras.optimizers.Adam(learning_rate=LEARNING_RATE)\n",
    "model.compile(loss='sparse_categorical_crossentropy', optimizer=opt, metrics=['accuracy'])"
   ]
  },
  {
   "cell_type": "code",
   "execution_count": 14,
   "id": "0fc03591",
   "metadata": {},
   "outputs": [
    {
     "name": "stdout",
     "output_type": "stream",
     "text": [
      "logs/fit/20220223-184847\n"
     ]
    }
   ],
   "source": [
    "log_dir = \"logs/fit/\" + tstr\n",
    "tensorboard_callback = tf.keras.callbacks.TensorBoard(log_dir=log_dir, histogram_freq=1)\n",
    "print(log_dir)"
   ]
  },
  {
   "cell_type": "code",
   "execution_count": 15,
   "id": "ece023e0",
   "metadata": {},
   "outputs": [
    {
     "name": "stdout",
     "output_type": "stream",
     "text": [
      "Epoch 1/40\n",
      "214/214 [==============================] - 4s 14ms/step - loss: 1.4608 - accuracy: 0.4179 - val_loss: 1.0751 - val_accuracy: 0.6670\n",
      "Epoch 2/40\n",
      "214/214 [==============================] - 2s 9ms/step - loss: 1.0946 - accuracy: 0.5748 - val_loss: 0.8825 - val_accuracy: 0.7056\n",
      "Epoch 3/40\n",
      "214/214 [==============================] - 2s 10ms/step - loss: 0.9076 - accuracy: 0.6806 - val_loss: 0.7187 - val_accuracy: 0.7740\n",
      "Epoch 4/40\n",
      "214/214 [==============================] - 2s 10ms/step - loss: 0.8165 - accuracy: 0.7118 - val_loss: 0.6279 - val_accuracy: 0.8126\n",
      "Epoch 5/40\n",
      "214/214 [==============================] - 2s 10ms/step - loss: 0.7331 - accuracy: 0.7437 - val_loss: 0.5167 - val_accuracy: 0.8423\n",
      "Epoch 6/40\n",
      "214/214 [==============================] - 2s 10ms/step - loss: 0.5913 - accuracy: 0.8099 - val_loss: 0.4480 - val_accuracy: 0.8445\n",
      "Epoch 7/40\n",
      "214/214 [==============================] - 2s 10ms/step - loss: 0.6093 - accuracy: 0.7864 - val_loss: 0.4677 - val_accuracy: 0.8490\n",
      "Epoch 8/40\n",
      "214/214 [==============================] - 2s 10ms/step - loss: 0.5019 - accuracy: 0.8345 - val_loss: 0.4045 - val_accuracy: 0.8633\n",
      "Epoch 9/40\n",
      "214/214 [==============================] - 2s 10ms/step - loss: 0.4821 - accuracy: 0.8393 - val_loss: 0.3967 - val_accuracy: 0.8655\n",
      "Epoch 10/40\n",
      "214/214 [==============================] - 2s 10ms/step - loss: 0.4729 - accuracy: 0.8472 - val_loss: 0.4095 - val_accuracy: 0.8743\n",
      "Epoch 11/40\n",
      "214/214 [==============================] - 2s 10ms/step - loss: 0.4465 - accuracy: 0.8597 - val_loss: 0.3984 - val_accuracy: 0.8721\n",
      "Epoch 12/40\n",
      "214/214 [==============================] - 2s 10ms/step - loss: 0.4499 - accuracy: 0.8527 - val_loss: 0.3732 - val_accuracy: 0.8754\n",
      "Epoch 13/40\n",
      "214/214 [==============================] - 2s 10ms/step - loss: 0.4111 - accuracy: 0.8655 - val_loss: 0.3928 - val_accuracy: 0.8743\n",
      "Epoch 14/40\n",
      "214/214 [==============================] - 2s 10ms/step - loss: 0.3889 - accuracy: 0.8780 - val_loss: 0.3859 - val_accuracy: 0.8732\n",
      "Epoch 15/40\n",
      "214/214 [==============================] - 2s 10ms/step - loss: 0.3631 - accuracy: 0.8807 - val_loss: 0.3908 - val_accuracy: 0.8677\n",
      "Epoch 16/40\n",
      "214/214 [==============================] - 2s 10ms/step - loss: 0.3795 - accuracy: 0.8713 - val_loss: 0.3453 - val_accuracy: 0.8897\n",
      "Epoch 17/40\n",
      "214/214 [==============================] - 2s 10ms/step - loss: 0.3564 - accuracy: 0.8871 - val_loss: 0.3537 - val_accuracy: 0.8931\n",
      "Epoch 18/40\n",
      "214/214 [==============================] - 2s 10ms/step - loss: 0.3894 - accuracy: 0.8718 - val_loss: 0.3416 - val_accuracy: 0.8908\n",
      "Epoch 19/40\n",
      "214/214 [==============================] - 2s 10ms/step - loss: 0.3625 - accuracy: 0.8833 - val_loss: 0.4342 - val_accuracy: 0.8523\n",
      "Epoch 20/40\n",
      "214/214 [==============================] - 2s 10ms/step - loss: 0.3396 - accuracy: 0.8850 - val_loss: 0.3912 - val_accuracy: 0.8710\n",
      "Epoch 21/40\n",
      "214/214 [==============================] - 2s 10ms/step - loss: 0.3064 - accuracy: 0.9039 - val_loss: 0.3483 - val_accuracy: 0.8864\n",
      "Epoch 22/40\n",
      "214/214 [==============================] - 2s 10ms/step - loss: 0.3266 - accuracy: 0.8984 - val_loss: 0.3575 - val_accuracy: 0.8875\n",
      "Epoch 23/40\n",
      "214/214 [==============================] - 2s 10ms/step - loss: 0.3026 - accuracy: 0.8994 - val_loss: 0.3289 - val_accuracy: 0.8942\n",
      "Epoch 24/40\n",
      "214/214 [==============================] - 2s 10ms/step - loss: 0.2987 - accuracy: 0.8982 - val_loss: 0.3293 - val_accuracy: 0.8908\n",
      "Epoch 25/40\n",
      "214/214 [==============================] - 2s 10ms/step - loss: 0.2906 - accuracy: 0.9043 - val_loss: 0.3055 - val_accuracy: 0.9019\n",
      "Epoch 26/40\n",
      "214/214 [==============================] - 2s 10ms/step - loss: 0.2773 - accuracy: 0.9115 - val_loss: 0.3542 - val_accuracy: 0.8920\n",
      "Epoch 27/40\n",
      "214/214 [==============================] - 2s 10ms/step - loss: 0.2505 - accuracy: 0.9202 - val_loss: 0.3385 - val_accuracy: 0.8864\n",
      "Epoch 28/40\n",
      "214/214 [==============================] - 3s 12ms/step - loss: 0.2429 - accuracy: 0.9178 - val_loss: 0.3720 - val_accuracy: 0.8864\n",
      "Epoch 29/40\n",
      "214/214 [==============================] - 3s 15ms/step - loss: 0.2731 - accuracy: 0.9042 - val_loss: 0.3115 - val_accuracy: 0.9052\n",
      "Epoch 30/40\n",
      "214/214 [==============================] - 3s 14ms/step - loss: 0.2667 - accuracy: 0.9136 - val_loss: 0.3557 - val_accuracy: 0.8908\n",
      "Epoch 31/40\n",
      "214/214 [==============================] - 2s 10ms/step - loss: 0.2200 - accuracy: 0.9282 - val_loss: 0.3410 - val_accuracy: 0.8997\n",
      "Epoch 32/40\n",
      "214/214 [==============================] - 2s 11ms/step - loss: 0.2410 - accuracy: 0.9174 - val_loss: 0.3273 - val_accuracy: 0.8875\n",
      "Epoch 33/40\n",
      "214/214 [==============================] - 2s 10ms/step - loss: 0.2106 - accuracy: 0.9294 - val_loss: 0.3241 - val_accuracy: 0.9019\n",
      "Epoch 34/40\n",
      "214/214 [==============================] - 2s 10ms/step - loss: 0.2562 - accuracy: 0.9200 - val_loss: 0.3378 - val_accuracy: 0.8986\n",
      "Epoch 35/40\n",
      "214/214 [==============================] - 2s 10ms/step - loss: 0.2381 - accuracy: 0.9257 - val_loss: 0.3586 - val_accuracy: 0.8920\n",
      "Epoch 36/40\n",
      "214/214 [==============================] - 2s 11ms/step - loss: 0.2149 - accuracy: 0.9298 - val_loss: 0.3473 - val_accuracy: 0.8975\n",
      "Epoch 37/40\n",
      "214/214 [==============================] - 2s 10ms/step - loss: 0.2085 - accuracy: 0.9284 - val_loss: 0.3396 - val_accuracy: 0.8953\n",
      "Epoch 38/40\n",
      "214/214 [==============================] - 2s 10ms/step - loss: 0.2306 - accuracy: 0.9245 - val_loss: 0.3383 - val_accuracy: 0.8997\n",
      "Epoch 39/40\n",
      "214/214 [==============================] - 2s 11ms/step - loss: 0.1709 - accuracy: 0.9485 - val_loss: 0.3458 - val_accuracy: 0.8986\n",
      "Epoch 40/40\n",
      "214/214 [==============================] - 2s 11ms/step - loss: 0.1833 - accuracy: 0.9434 - val_loss: 0.3755 - val_accuracy: 0.8908\n",
      "test_loss= 0.3248434364795685\n",
      "test_acc= 0.9040370583534241\n",
      "INFO:tensorflow:Assets written to: models/model/assets\n"
     ]
    }
   ],
   "source": [
    "history = model.fit(x_train, y_train, epochs=EPOCHS, batch_size=BATCH_SIZE, validation_split=0.2, callbacks=[tensorboard_callback])\n",
    "test_loss, test_acc = model.evaluate(x_test, y_test, verbose=0)\n",
    "print(\"test_loss=\", test_loss)\n",
    "print(\"test_acc=\", test_acc)\n",
    "model.save(MODEL_TF)"
   ]
  },
  {
   "cell_type": "code",
   "execution_count": 16,
   "id": "4122b10f",
   "metadata": {},
   "outputs": [
    {
     "data": {
      "image/png": "[encoded data removed]",
      "text/plain": [
       "<Figure size 2304x576 with 2 Axes>"
      ]
     },
     "metadata": {
      "needs_background": "light"
     },
     "output_type": "display_data"
    }
   ],
   "source": [
    "fig = plt.figure(figsize=(32, 8))\n",
    "\n",
    "ax1 = fig.add_subplot(1, 2, 1)\n",
    "ax2 = fig.add_subplot(1, 2, 2)\n",
    "\n",
    "\n",
    "ax1.plot(range(EPOCHS), history.history['loss'], label='loss')\n",
    "ax1.plot(range(EPOCHS), history.history['val_loss'], label='val_loss')\n",
    "ax2.plot(range(EPOCHS), history.history['accuracy'], label='accuracy')\n",
    "ax2.plot(range(EPOCHS), history.history['val_accuracy'], label='val_accuracy')\n",
    "\n",
    "ax1.set_title('loss')\n",
    "ax2.set_title('acc')\n",
    "\n",
    "plt.show()"
   ]
  },
  {
   "cell_type": "code",
   "execution_count": 17,
   "id": "adf3c713",
   "metadata": {},
   "outputs": [
    {
     "name": "stderr",
     "output_type": "stream",
     "text": [
      "/home/ec2-user/anaconda3/envs/tensorflow2_latest_p37/cpu/lib/python3.7/site-packages/tensorflow/python/keras/engine/sequential.py:450: UserWarning: `model.predict_classes()` is deprecated and will be removed after 2021-01-01. Please use instead:* `np.argmax(model.predict(x), axis=-1)`,   if your model does multi-class classification   (e.g. if it uses a `softmax` last-layer activation).* `(model.predict(x) > 0.5).astype(\"int32\")`,   if your model does binary classification   (e.g. if it uses a `sigmoid` last-layer activation).\n",
      "  warnings.warn('`model.predict_classes()` is deprecated and '\n"
     ]
    },
    {
     "name": "stdout",
     "output_type": "stream",
     "text": [
      "1366 1511 90.40370615486432\n"
     ]
    }
   ],
   "source": [
    "result = model.predict_classes(x_test, batch_size=BATCH_SIZE)\n",
    "y_test_flatten = list(itertools.chain.from_iterable(y_test))\n",
    "judge = y_test_flatten == result\n",
    "print(np.sum(judge == True), len(result), np.sum(judge == True) * 100 / len(result))"
   ]
  },
  {
   "cell_type": "code",
   "execution_count": 18,
   "id": "e453632e",
   "metadata": {},
   "outputs": [
    {
     "name": "stdout",
     "output_type": "stream",
     "text": [
      "20220223-184847 logs/20220223-184847\n"
     ]
    }
   ],
   "source": [
    "logsdirnm = \"logs/\" + tstr\n",
    "write_dir_to_s3(BUCKET_NAME, logsdirnm, \"logs/fit/\")\n",
    "print(tstr, logsdirnm)"
   ]
  },
  {
   "cell_type": "code",
   "execution_count": 19,
   "id": "a27b410d",
   "metadata": {},
   "outputs": [
    {
     "data": {
      "image/png": "[encoded data removed]",
      "text/plain": [
       "<Figure size 1440x720 with 2 Axes>"
      ]
     },
     "metadata": {
      "needs_background": "light"
     },
     "output_type": "display_data"
    }
   ],
   "source": [
    "true_classes_list = list(itertools.chain.from_iterable(y_test))\n",
    "true_classes = np.array(true_classes_list)\n",
    "predict_classes = model.predict_classes(x_test)\n",
    "cmx = confusion_matrix(true_classes, predict_classes)\n",
    "\n",
    "plt.figure(figsize=(20, 10))\n",
    "sns.heatmap(cmx, square=True, cbar=True, annot=True, cmap='Blues', fmt='d')\n",
    "plt.xlabel(\"Predicted\", fontsize=13)\n",
    "plt.ylabel(\"Actual\", fontsize=13)\n",
    "plt.savefig('sklearn_confusion_matrix.png')"
   ]
  },
  {
   "cell_type": "code",
   "execution_count": 20,
   "id": "cfe6f9e6",
   "metadata": {},
   "outputs": [
    {
     "name": "stdout",
     "output_type": "stream",
     "text": [
      "              precision    recall  f1-score   support\n",
      "\n",
      "           0       0.86      0.97      0.91       507\n",
      "           1       0.91      0.80      0.85       251\n",
      "           2       0.93      0.89      0.91       251\n",
      "           3       0.98      0.93      0.96       251\n",
      "           4       0.89      0.84      0.87       251\n",
      "\n",
      "    accuracy                           0.90      1511\n",
      "   macro avg       0.92      0.89      0.90      1511\n",
      "weighted avg       0.91      0.90      0.90      1511\n",
      "\n"
     ]
    }
   ],
   "source": [
    "print(classification_report(true_classes, predict_classes))"
   ]
  },
  {
   "cell_type": "code",
   "execution_count": null,
   "id": "1fc40c64",
   "metadata": {},
   "outputs": [],
   "source": []
  },
  {
   "cell_type": "markdown",
   "id": "f21c841a",
   "metadata": {},
   "source": [
    "# Pluning"
   ]
  },
  {
   "cell_type": "code",
   "execution_count": 21,
   "id": "ac8902d0",
   "metadata": {},
   "outputs": [],
   "source": [
    "# import tensorflow_model_optimization as tfmot\n",
    "\n",
    "# prune_low_magnitude = tfmot.sparsity.keras.prune_low_magnitude\n",
    "\n",
    "# # Compute end step to finish pruning after 2 epochs.\n",
    "# batch_size = BATCH_SIZE\n",
    "# epochs = EPOCHS//2\n",
    "# validation_split = 0.2 # 10% of training set will be used for validation set. \n",
    "\n",
    "# num_data = x_train.shape[0] * (1 - validation_split)\n",
    "# end_step = np.ceil(num_data / batch_size).astype(np.int32) * epochs\n",
    "\n",
    "# # Define model for pruning.\n",
    "# pruning_params = {\n",
    "#       'pruning_schedule': tfmot.sparsity.keras.PolynomialDecay(initial_sparsity=0.50,\n",
    "#                                                                final_sparsity=0.80,\n",
    "#                                                                begin_step=0,\n",
    "#                                                                end_step=end_step)\n",
    "# }\n",
    "\n",
    "# model_for_pruning = prune_low_magnitude(model, **pruning_params)\n",
    "\n",
    "# # `prune_low_magnitude` requires a recompile.\n",
    "# opt = tf.keras.optimizers.Adam(learning_rate=LEARNING_RATE)\n",
    "# model_for_pruning.compile(loss='sparse_categorical_crossentropy', optimizer=opt, metrics=['accuracy'])"
   ]
  },
  {
   "cell_type": "code",
   "execution_count": 22,
   "id": "1cdddd77",
   "metadata": {},
   "outputs": [],
   "source": [
    "# logdir = tempfile.mkdtemp()\n",
    "\n",
    "# callbacks = [\n",
    "#   tfmot.sparsity.keras.UpdatePruningStep(),\n",
    "#   tfmot.sparsity.keras.PruningSummaries(log_dir=logdir),\n",
    "# ]\n",
    "\n",
    "# pruning_history = model_for_pruning.fit(x_train, y_train, epochs=epochs, batch_size=batch_size, validation_split=validation_split, callbacks=callbacks)\n",
    "# test_pruning_loss, test_pruning_acc = model_for_pruning.evaluate(x_test, y_test, verbose=0)\n",
    "# print(\"test_pruning_loss=\", test_pruning_loss)\n",
    "# print(\"test_pruning_acc=\", test_pruning_acc)"
   ]
  },
  {
   "cell_type": "code",
   "execution_count": null,
   "id": "7a415c50",
   "metadata": {},
   "outputs": [],
   "source": []
  },
  {
   "cell_type": "markdown",
   "id": "90c81284",
   "metadata": {},
   "source": [
    "# Convert to TF Lite model"
   ]
  },
  {
   "cell_type": "markdown",
   "id": "698f85a2",
   "metadata": {},
   "source": [
    "## 1. Generate Models with Quantization"
   ]
  },
  {
   "cell_type": "code",
   "execution_count": 23,
   "id": "f4320159",
   "metadata": {},
   "outputs": [
    {
     "name": "stdout",
     "output_type": "stream",
     "text": [
      "INFO:tensorflow:Assets written to: /tmp/tmpupbu5ft9/assets\n",
      "INFO:tensorflow:Assets written to: /tmp/tmpcls0ns8s/assets\n"
     ]
    },
    {
     "name": "stderr",
     "output_type": "stream",
     "text": [
      "INFO:tensorflow:Assets written to: /tmp/tmpcls0ns8s/assets\n"
     ]
    },
    {
     "data": {
      "text/plain": [
       "293560"
      ]
     },
     "execution_count": 23,
     "metadata": {},
     "output_type": "execute_result"
    }
   ],
   "source": [
    "# Convert the model to the TensorFlow Lite format without quantization\n",
    "# converter = tf.lite.TFLiteConverter.from_saved_model(MODEL_TF)\n",
    "converter = tf.lite.TFLiteConverter.from_keras_model(model)\n",
    "model_no_quant_tflite = converter.convert()\n",
    "\n",
    "# model_for_export = tfmot.sparsity.keras.strip_pruning(model_for_pruning)\n",
    "# converter = tf.lite.TFLiteConverter.from_keras_model(model_for_export)\n",
    "# model_no_quant_tflite = converter.convert()\n",
    "\n",
    "\n",
    "# Save the model to disk\n",
    "open(MODEL_NO_QUANT_TFLITE, \"wb\").write(model_no_quant_tflite)\n",
    "\n",
    "\n",
    "\n",
    "# Convert the model to the TensorFlow Lite format with quantization\n",
    "def representative_dataset():\n",
    "  for i in range(500):\n",
    "    yield [x_train.astype(np.float32)]\n",
    "\n",
    "# Set the optimization flag.\n",
    "converter.optimizations = [tf.lite.Optimize.DEFAULT]\n",
    "# Enforce integer only quantization\n",
    "converter.target_spec.supported_ops = [tf.lite.OpsSet.TFLITE_BUILTINS_INT8]\n",
    "converter.inference_input_type = tf.int8\n",
    "converter.inference_output_type = tf.int8\n",
    "# Provide a representative dataset to ensure we quantize correctly.\n",
    "converter.representative_dataset = representative_dataset\n",
    "model_tflite = converter.convert()\n",
    "\n",
    "# Save the model to disk\n",
    "open(MODEL_TFLITE, \"wb\").write(model_tflite)"
   ]
  },
  {
   "cell_type": "markdown",
   "id": "a85abbfb",
   "metadata": {},
   "source": [
    "## 2. Compare Model Performance"
   ]
  },
  {
   "cell_type": "code",
   "execution_count": 24,
   "id": "a202f5fe",
   "metadata": {},
   "outputs": [],
   "source": [
    "def predict_tflite(tflite_model, x_test):\n",
    "  # Prepare the test data\n",
    "  x_test_ = x_test.copy()\n",
    "#  x_test_ = x_test_.reshape((x_test.size, 1))\n",
    "  x_test_ = x_test_.reshape(x_test_.shape[0], SAMPLE, DIM, 1)\n",
    "  x_test_ = x_test_.astype(np.float32)\n",
    "\n",
    "  # Initialize the TFLite interpreter\n",
    "  interpreter = tf.lite.Interpreter(model_content=tflite_model)\n",
    "  interpreter.allocate_tensors()\n",
    "\n",
    "  input_details = interpreter.get_input_details()[0]\n",
    "  output_details = interpreter.get_output_details()[0]\n",
    "\n",
    "  # If required, quantize the input layer (from float to integer)\n",
    "  input_scale, input_zero_point = input_details[\"quantization\"]\n",
    "  if (input_scale, input_zero_point) != (0.0, 0):\n",
    "    x_test_ = x_test_ / input_scale + input_zero_point\n",
    "    x_test_ = x_test_.astype(input_details[\"dtype\"])\n",
    "  \n",
    "  # Invoke the interpreter\n",
    "  y_pred = np.empty((len(x_test_), OUTPUTS), dtype=output_details[\"dtype\"])\n",
    "  for i in range(len(x_test_)):\n",
    "    interpreter.set_tensor(input_details[\"index\"], [x_test_[i]])\n",
    "    interpreter.invoke()\n",
    "    y_pred[i] = interpreter.get_tensor(output_details[\"index\"])[0]\n",
    "  \n",
    "  # If required, dequantized the output layer (from integer to float)\n",
    "  output_scale, output_zero_point = output_details[\"quantization\"]\n",
    "  if (output_scale, output_zero_point) != (0.0, 0):\n",
    "    y_pred = y_pred.astype(np.float32)\n",
    "    y_pred = (y_pred - output_zero_point) * output_scale\n",
    "\n",
    "  return y_pred\n",
    "\n",
    "# def evaluate_tflite(tflite_model, x_test, y_true):\n",
    "#   global model\n",
    "#   y_pred = predict_tflite(tflite_model, x_test)\n",
    "#   loss_function = tf.keras.losses.get(model.loss)\n",
    "#   loss = loss_function(y_true, y_pred).numpy()\n",
    "#   return loss"
   ]
  },
  {
   "cell_type": "code",
   "execution_count": 25,
   "id": "eb8cfcdb",
   "metadata": {},
   "outputs": [],
   "source": [
    "def pred_argmax(y_test_pred):\n",
    "    y_test_pred_max = np.empty(len(y_test_pred), dtype=int)\n",
    "    for i in range(len(y_test_pred)):\n",
    "        y_test_pred_max[i] = np.argmax(y_test_pred_tf[i])\n",
    "\n",
    "    return y_test_pred_max"
   ]
  },
  {
   "cell_type": "code",
   "execution_count": null,
   "id": "14a8b30c",
   "metadata": {},
   "outputs": [],
   "source": []
  },
  {
   "cell_type": "markdown",
   "id": "980252b4",
   "metadata": {},
   "source": [
    "### 1. Predictions"
   ]
  },
  {
   "cell_type": "code",
   "execution_count": 26,
   "id": "c81c7b58",
   "metadata": {},
   "outputs": [],
   "source": [
    "# Calculate predictions\n",
    "y_test_pred_tf = model.predict(x_test)\n",
    "y_test_pred_no_quant_tflite = predict_tflite(model_no_quant_tflite, x_test)\n",
    "y_test_pred_tflite = predict_tflite(model_tflite, x_test)"
   ]
  },
  {
   "cell_type": "code",
   "execution_count": 27,
   "id": "8da99c2d",
   "metadata": {},
   "outputs": [
    {
     "name": "stdout",
     "output_type": "stream",
     "text": [
      "(1511, 5)\n"
     ]
    }
   ],
   "source": [
    "print(y_test_pred_no_quant_tflite.shape)"
   ]
  },
  {
   "cell_type": "code",
   "execution_count": 28,
   "id": "56d5d6fe",
   "metadata": {},
   "outputs": [
    {
     "name": "stdout",
     "output_type": "stream",
     "text": [
      "y_test_pred_tf:1366,1511,90.40370615486432\n",
      "y_test_pred_no_quant_tflite:1366,1511,90.40370615486432\n",
      "y_test_pred_tflite:1366,1511,90.40370615486432\n"
     ]
    }
   ],
   "source": [
    "# # Compare predictions\n",
    "y_test_ = np.ravel(y_test)\n",
    "\n",
    "y_test_pred_tf_max = pred_argmax(y_test_pred_tf)\n",
    "judge = y_test_ == y_test_pred_tf_max\n",
    "print(\"y_test_pred_tf:\" +  str(np.sum(judge == True)) + \",\" + str(len(result)) + \",\" + str(np.sum(judge == True) * 100 / len(result)))\n",
    "\n",
    "y_test_pred_no_quant_tflite_max = pred_argmax(y_test_pred_no_quant_tflite)\n",
    "judge = y_test_ == y_test_pred_no_quant_tflite_max\n",
    "print(\"y_test_pred_no_quant_tflite:\" +  str(np.sum(judge == True)) + \",\" + str(len(result)) + \",\" + str(np.sum(judge == True) * 100 / len(result)))\n",
    "\n",
    "y_test_pred_tflite_max = pred_argmax(y_test_pred_tflite)\n",
    "judge = y_test_ == y_test_pred_tflite_max\n",
    "print(\"y_test_pred_tflite:\" +  str(np.sum(judge == True)) + \",\" + str(len(result)) + \",\" + str(np.sum(judge == True) * 100 / len(result)))"
   ]
  },
  {
   "cell_type": "code",
   "execution_count": null,
   "id": "1960b316",
   "metadata": {},
   "outputs": [],
   "source": []
  },
  {
   "cell_type": "markdown",
   "id": "10acbd0a",
   "metadata": {},
   "source": [
    "### 2. Loss (MSE/Mean Squared Error)"
   ]
  },
  {
   "cell_type": "code",
   "execution_count": 29,
   "id": "208e6509",
   "metadata": {},
   "outputs": [],
   "source": [
    "# # Calculate loss\n",
    "# loss_tf, _ = model.evaluate(x_test, y_test, verbose=0)\n",
    "# loss_no_quant_tflite = evaluate_tflite(model_no_quant_tflite, x_test, y_test)\n",
    "# loss_tflite = evaluate_tflite(model_tflite, x_test, y_test)"
   ]
  },
  {
   "cell_type": "code",
   "execution_count": 30,
   "id": "4b6f2005",
   "metadata": {},
   "outputs": [],
   "source": [
    "# # Compare loss\n",
    "# df = pd.DataFrame.from_records(\n",
    "#     [[\"TensorFlow\", loss_tf],\n",
    "#      [\"TensorFlow Lite\", loss_no_quant_tflite],\n",
    "#      [\"TensorFlow Lite Quantized\", loss_tflite]],\n",
    "#      columns = [\"Model\", \"Loss/MSE\"], index=\"Model\").round(4)\n",
    "# df"
   ]
  },
  {
   "cell_type": "markdown",
   "id": "6e0a20d6",
   "metadata": {},
   "source": [
    "### 3. Size"
   ]
  },
  {
   "cell_type": "code",
   "execution_count": 31,
   "id": "0f852913",
   "metadata": {},
   "outputs": [],
   "source": [
    "# Calculate size\n",
    "size_tf = os.path.getsize(MODEL_TF)\n",
    "size_no_quant_tflite = os.path.getsize(MODEL_NO_QUANT_TFLITE)\n",
    "size_tflite = os.path.getsize(MODEL_TFLITE)"
   ]
  },
  {
   "cell_type": "code",
   "execution_count": 32,
   "id": "39c47c33",
   "metadata": {},
   "outputs": [
    {
     "data": {
      "text/html": [
       "<div>\n",
       "<style scoped>\n",
       "    .dataframe tbody tr th:only-of-type {\n",
       "        vertical-align: middle;\n",
       "    }\n",
       "\n",
       "    .dataframe tbody tr th {\n",
       "        vertical-align: top;\n",
       "    }\n",
       "\n",
       "    .dataframe thead th {\n",
       "        text-align: right;\n",
       "    }\n",
       "</style>\n",
       "<table border=\"1\" class=\"dataframe\">\n",
       "  <thead>\n",
       "    <tr style=\"text-align: right;\">\n",
       "      <th></th>\n",
       "      <th>Size</th>\n",
       "      <th></th>\n",
       "    </tr>\n",
       "    <tr>\n",
       "      <th>Model</th>\n",
       "      <th></th>\n",
       "      <th></th>\n",
       "    </tr>\n",
       "  </thead>\n",
       "  <tbody>\n",
       "    <tr>\n",
       "      <th>TensorFlow Lite</th>\n",
       "      <td>1141620 bytes</td>\n",
       "      <td></td>\n",
       "    </tr>\n",
       "    <tr>\n",
       "      <th>TensorFlow Lite Quantized</th>\n",
       "      <td>293560 bytes</td>\n",
       "      <td>(reduced by 848060 bytes)</td>\n",
       "    </tr>\n",
       "  </tbody>\n",
       "</table>\n",
       "</div>"
      ],
      "text/plain": [
       "                                     Size                           \n",
       "Model                                                               \n",
       "TensorFlow Lite            1141620 bytes                            \n",
       "TensorFlow Lite Quantized    293560 bytes  (reduced by 848060 bytes)"
      ]
     },
     "execution_count": 32,
     "metadata": {},
     "output_type": "execute_result"
    }
   ],
   "source": [
    "# Compare size\n",
    "pd.DataFrame.from_records(\n",
    "    [[\"TensorFlow Lite\", f\"{size_no_quant_tflite} bytes \",\"\"],\n",
    "     [\"TensorFlow Lite Quantized\", f\"{size_tflite} bytes\", f\"(reduced by {size_no_quant_tflite - size_tflite} bytes)\"]],\n",
    "     columns = [\"Model\", \"Size\", \"\"], index=\"Model\")"
   ]
  },
  {
   "cell_type": "markdown",
   "id": "ec656115",
   "metadata": {},
   "source": [
    "# Generate a TensorFlow Lite for Microcontrollers Model"
   ]
  },
  {
   "cell_type": "code",
   "execution_count": 33,
   "id": "47f754e7",
   "metadata": {},
   "outputs": [],
   "source": [
    "# Convert to a C source file, i.e, a TensorFlow Lite for Microcontrollers model\n",
    "!xxd -i {MODEL_TFLITE} > {MODEL_TFLITE_MICRO}\n",
    "\n",
    "# Update variable names\n",
    "REPLACE_TEXT = MODEL_TFLITE.replace('/', '_').replace('.', '_')\n",
    "!sed -i 's/'{REPLACE_TEXT}'/g_model/g' {MODEL_TFLITE_MICRO}\n",
    "!sed -i 's/unsigned char/alignas(8) const unsigned char/g' {MODEL_TFLITE_MICRO}\n",
    "!sed -i 's/unsigned int g_model_len/const int g_model_len/g' {MODEL_TFLITE_MICRO}\n",
    "\n",
    "!sed -i '1s/^/#include \"model.h\"\\n\\n/' {MODEL_TFLITE_MICRO}"
   ]
  },
  {
   "cell_type": "code",
   "execution_count": 34,
   "id": "2b94bbb5",
   "metadata": {},
   "outputs": [],
   "source": [
    "# Print the C source file\n",
    "# !cat {MODEL_TFLITE_MICRO}"
   ]
  },
  {
   "cell_type": "markdown",
   "id": "9795a0ac",
   "metadata": {},
   "source": [
    "# Save to S3"
   ]
  },
  {
   "cell_type": "code",
   "execution_count": 35,
   "id": "13bea2f3",
   "metadata": {},
   "outputs": [],
   "source": [
    "nowdirnm = \"models/\" + tstr\n",
    "latestdirname = \"models/latest\"\n",
    "write_dir_to_s3(BUCKET_NAME, nowdirnm, \"models\")\n",
    "write_dir_to_s3(BUCKET_NAME, latestdirname, \"models\")"
   ]
  },
  {
   "cell_type": "code",
   "execution_count": null,
   "id": "4ec631a7",
   "metadata": {},
   "outputs": [],
   "source": []
  },
  {
   "cell_type": "code",
   "execution_count": null,
   "id": "5ef11b65",
   "metadata": {},
   "outputs": [],
   "source": []
  }
 ],
 "metadata": {
  "kernelspec": {
   "display_name": "conda_tensorflow2_latest_p37",
   "language": "python",
   "name": "conda_tensorflow2_latest_p37"
  },
  "language_info": {
   "codemirror_mode": {
    "name": "ipython",
    "version": 3
   },
   "file_extension": ".py",
   "mimetype": "text/x-python",
   "name": "python",
   "nbconvert_exporter": "python",
   "pygments_lexer": "ipython3",
   "version": "3.7.10"
  }
 },
 "nbformat": 4,
 "nbformat_minor": 5
}
